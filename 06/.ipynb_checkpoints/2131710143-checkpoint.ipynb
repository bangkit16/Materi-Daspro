{
 "cells": [
  {
   "cell_type": "markdown",
   "metadata": {
    "collapsed": true
   },
   "source": [
    "## JOBSHEET 5\n",
    "\n",
    "## PEMILIHAN 1\n",
    "\n",
    "### Tujuan\n",
    "\n",
    "Mahasiswa mampu menyelesaikan permasalahan/studi kasus menggunakan sintaks pemilihan 1 dan mengimplemantasikannya dalam bahasa pemrogaman java.\n",
    "\n",
    "### Alat dan Bahan\n",
    "+ PC/laptop\n",
    "+ Browser(chrome, firefox, safari)\n",
    "+ Koneksi internet\n",
    "\n",
    "### Praktikum\n",
    "\n",
    "#### Percobaan 1 : Penggunaan if\n",
    "\n",
    "#### Waktu percobaan : 40 menit\n",
    "\n",
    "1. Perhatikan flowchart dibawah ini!\n",
    "\n",
    "    <p align=\"left\">\n",
    "    <img width=\"351\" height=\"460\" src=\"images/01.png\">\n",
    "    </p>\n",
    "    \n",
    "\n",
    "> Flowchart diatas digunakan untuk menentukan bilangan ganjil/genap, selanjutnya kita akan membuat programnya berdasarkan\n",
    "> flowchart di atas!\n",
    "\n",
    "2. Tambahkan library Scanner, deklarasi Scanner, dan buat variabel bil untuk menampung data yang diinput melalui keyboard\n",
    "\n",
    "    ![](images/03.png)"
   ]
  },
  {
   "cell_type": "code",
   "execution_count": 1,
   "metadata": {
    "pycharm": {
     "name": "#%%\n"
    }
   },
   "outputs": [
    {
     "name": "stdout",
     "output_type": "stream",
     "text": [
      "Masukan Sebuah bilangan : 11\n"
     ]
    }
   ],
   "source": [
    "// Ketik kode program di atas di bawah sini\n",
    "import java.util.Scanner;\n",
    "Scanner input = new Scanner(System.in);\n",
    "int bil;\n",
    "System.out.print(\"Masukan Sebuah bilangan : \");\n",
    "bil = input.nextInt();"
   ]
  },
  {
   "cell_type": "markdown",
   "metadata": {},
   "source": [
    "3. Buatlah struktur kondisi untuk mengecek apakah bilangan tersebut merupakan bilangan genap atau ganjil\n",
    "\n",
    "    ![](images/04.png)"
   ]
  },
  {
   "cell_type": "code",
   "execution_count": 2,
   "metadata": {},
   "outputs": [
    {
     "name": "stdout",
     "output_type": "stream",
     "text": [
      "Bilangan Ganjil\n"
     ]
    }
   ],
   "source": [
    "// Ketik kode program di atas di bawah sini\n",
    "if(bil % 2 == 0){ \n",
    "    System.out.println(\"Bilangan Genap\");\n",
    "}else{\n",
    "    System.out.println(\"Bilangan Ganjil\");\n",
    "}"
   ]
  },
  {
   "cell_type": "markdown",
   "metadata": {},
   "source": [
    "##### Pertanyaan\n",
    "1. Modifikasi program diatas dibagian struktur pemilihannya sehingga menjadi sebagai berikut:\n",
    "\n",
    "    ![](images/05.png)"
   ]
  },
  {
   "cell_type": "code",
   "execution_count": 3,
   "metadata": {},
   "outputs": [
    {
     "name": "stdout",
     "output_type": "stream",
     "text": [
      "Billangan Ganjil\n"
     ]
    }
   ],
   "source": [
    "// Ketik kode program di atas di bawah sini\n",
    "String output = (bil % 2 == 0) ? \"Bilangan Genap\" : \"Billangan Ganjil\";\n",
    "System.out.println(output);"
   ]
  },
  {
   "cell_type": "markdown",
   "metadata": {},
   "source": [
    "2. Jalankan dan amatilah hasilnya!\n",
    "3. Jelaskan mengapa output program yang dimodifikasi sama dengan output program sebelum dimodifikasi!\n",
    "\n",
    "#### Percobaan 2 : Penggunaan if else\n",
    "\n",
    "#### Waktu percobaan : 40 menit"
   ]
  },
  {
   "cell_type": "markdown",
   "metadata": {},
   "source": [
    "+ Buatlah sebuah variabel nilai untuk menyimpan inputan dari keyboard\n",
    "\n",
    "    ![](images/06.png)"
   ]
  },
  {
   "cell_type": "code",
   "execution_count": 4,
   "metadata": {},
   "outputs": [
    {
     "name": "stdout",
     "output_type": "stream",
     "text": [
      "Masukan sebuah bilangan: 110\n"
     ]
    }
   ],
   "source": [
    "// Ketik kode program di atas di bawah sini\n",
    " int nilai;\n",
    "System.out.print(\"Masukan sebuah bilangan: \");\n",
    "nilai = input.nextInt();"
   ]
  },
  {
   "cell_type": "markdown",
   "metadata": {},
   "source": [
    "+ Tambahkan sebuah kondisi untuk mengecek input pada variabel nilai\n",
    "\n",
    "    ![](images/07.png)"
   ]
  },
  {
   "cell_type": "code",
   "execution_count": 5,
   "metadata": {},
   "outputs": [
    {
     "name": "stdout",
     "output_type": "stream",
     "text": [
      "Hasil akhir nilai adalah 120\n"
     ]
    }
   ],
   "source": [
    "// Ketik kode program di atas di bawah sini\n",
    "if(nilai >= 100){\n",
    "    nilai += 10;\n",
    "}else{\n",
    "    nilai -= 10;\n",
    "}\n",
    "System.out.println(\"Hasil akhir nilai adalah \" + nilai);"
   ]
  },
  {
   "cell_type": "markdown",
   "metadata": {},
   "source": [
    "+ Jalankan program. Amati apa yang terjadi!"
   ]
  },
  {
   "cell_type": "markdown",
   "metadata": {},
   "source": [
    "##### Pertanyaan\n",
    "1. Jelaskan fungsi kode program berikut:\n",
    "    \n",
    "    ```\n",
    "    nilai+=10;\n",
    "    nilai-=10;\n",
    "    ```\n",
    "Maksut dari nilai += 10 adalah sama dengan nilai = nilai + 10 , jadi fungsi dari nilai += 10 hanya untuk mempersingkat saja\n",
    "    Maksut dari nilai -= 10 adalah sama dengan nilai = nilai - 10 , jadi fungsi dari nilai -= 10 hanya untuk mempersingkat saja\n",
    "    \n",
    "\n",
    "2. Modifikasilah program diatas dimana inputannya yang awalnya hanya satu kemudian diganti 2 inputan (misal : nilai1 dan nilai2), lakukan perhitungan rata-rata kedua nilai tersebut jika nilainya lebih dari sama dengan 100 maka dikurangi 5, sedangkan jika nilai rata-rata tersebut kurang dari 100 maka akan langsung dicetak!"
   ]
  },
  {
   "cell_type": "code",
   "execution_count": 7,
   "metadata": {},
   "outputs": [
    {
     "name": "stdout",
     "output_type": "stream",
     "text": [
      "Masukan sebuah nilai 1: 50\n",
      "Masukan sebuah nilai 2: 30\n",
      "Rata rata : 40"
     ]
    }
   ],
   "source": [
    "// Ketik kode program di atas di bawah sini\n",
    "Scanner scan = new Scanner(System.in);\n",
    "int nilai1 , nilai2 , rata;\n",
    "System.out.print(\"Masukan sebuah nilai 1: \");\n",
    "nilai1 = scan.nextInt();\n",
    "System.out.print(\"Masukan sebuah nilai 2: \");\n",
    "nilai2 = scan.nextInt();\n",
    "rata = (nilai1 + nilai2) / 2;\n",
    "if(rata >= 100){\n",
    "    System.out.println(\"Rata rata awal : \" + rata);\n",
    "    rata -= 5;\n",
    "    System.out.println(\"Rata rata : \" + rata);\n",
    "}else{\n",
    "    System.out.print(\"Rata rata : \" + rata);\n",
    "}\n"
   ]
  },
  {
   "cell_type": "markdown",
   "metadata": {},
   "source": [
    "#### Percobaan 3 : Penggunaan if else-if else\n",
    "\n",
    "#### Waktu percobaan : 40 menit\n",
    "\n",
    "+ Tambahakan library `Scanner`\n",
    "+ Buatlah deklarasi `Scanner`\n",
    "+ Buat variabel umur bertipe `int`\n",
    "\n",
    "    ![](images/08.png)"
   ]
  },
  {
   "cell_type": "code",
   "execution_count": 8,
   "metadata": {},
   "outputs": [
    {
     "name": "stdout",
     "output_type": "stream",
     "text": [
      "Masukan umur Anda: 10\n"
     ]
    }
   ],
   "source": [
    "// Ketik kode program di atas di bawah sini\n",
    "int umur;\n",
    "System.out.print(\"Masukan umur Anda: \");\n",
    "umur = input.nextInt();"
   ]
  },
  {
   "cell_type": "markdown",
   "metadata": {},
   "source": [
    "+ Kode untuk melakukan pengecekan variabel `umur`\n",
    "\n",
    "    ![](images/09.png)"
   ]
  },
  {
   "cell_type": "code",
   "execution_count": 9,
   "metadata": {},
   "outputs": [
    {
     "name": "stdout",
     "output_type": "stream",
     "text": [
      "Anak-anak\n"
     ]
    }
   ],
   "source": [
    "// Ketik kode program di atas di bawah sini\n",
    "if(umur > 60){\n",
    "    System.out.println(\"Lansia\");\n",
    "}else if (umur > 45){\n",
    "    System.out.println(\"Tua\");\n",
    "}else if (umur > 17){\n",
    "    System.out.println(\"Dewasa\");\n",
    "}else if (umur > 5){\n",
    "    System.out.println(\"Anak-anak\");\n",
    "}else{\n",
    "    System.out.println(\"Balita\");\n",
    "};"
   ]
  },
  {
   "cell_type": "markdown",
   "metadata": {},
   "source": [
    "+ Jalankan program dan amati apa yang terjadi!"
   ]
  },
  {
   "cell_type": "markdown",
   "metadata": {},
   "source": [
    "##### Percobaan 4 : Penggunaan switch-case\n",
    "\n",
    "#### Waktu percobaan : 40 menit\n",
    "\n",
    "1. Deklarasikan Scanner\n",
    "1. Buatlah variabel-variabel berikut\n",
    "\n",
    "    ![](images/10.png)"
   ]
  },
  {
   "cell_type": "code",
   "execution_count": 10,
   "metadata": {},
   "outputs": [],
   "source": [
    "// Ketik kode program di atas di bawah sini\n",
    "Scanner sc = new Scanner(System.in);\n",
    "double angka1, angka2 , hasil;\n",
    "char operator;"
   ]
  },
  {
   "cell_type": "markdown",
   "metadata": {},
   "source": [
    "3. Kode program untuk meminta inputan dari keyboard\n",
    "\n",
    "    ![](images/11.png)"
   ]
  },
  {
   "cell_type": "code",
   "execution_count": 11,
   "metadata": {},
   "outputs": [
    {
     "name": "stdout",
     "output_type": "stream",
     "text": [
      "Masukan angka pertama: \n",
      "5\n",
      "Masukan angka kedua: \n",
      "3\n",
      "Masukan operator (+ - * /): \n",
      "-\n"
     ]
    }
   ],
   "source": [
    "// Ketik kode program di atas di bawah sini\n",
    "System.out.println(\"Masukan angka pertama: \");\n",
    "angka1 = sc.nextDouble();\n",
    "System.out.println(\"Masukan angka kedua: \");\n",
    "angka2 = sc.nextDouble();\n",
    "System.out.println(\"Masukan operator (+ - * /): \");\n",
    "operator = sc.next().charAt(0);"
   ]
  },
  {
   "cell_type": "markdown",
   "metadata": {},
   "source": [
    "4. Kode di bawah ini untuk melakukan pengecekan operator yang digunakan sebelum dilakukan operasi aritmatika\n",
    "\n",
    "    ![](images/12.png)"
   ]
  },
  {
   "cell_type": "code",
   "execution_count": 12,
   "metadata": {
    "scrolled": true
   },
   "outputs": [
    {
     "name": "stdout",
     "output_type": "stream",
     "text": [
      "5.0 - 3.0 = 2.0\n"
     ]
    }
   ],
   "source": [
    "// Ketik kode program di atas di bawah sini\n",
    "switch(operator){\n",
    "    case '+':\n",
    "        hasil = angka1 + angka2;\n",
    "        System.out.println(angka1 + \" + \" + angka2 + \" = \" + hasil);\n",
    "        break;\n",
    "    case '-':\n",
    "        hasil = angka1 - angka2;\n",
    "        System.out.println(angka1 + \" - \" + angka2 + \" = \" + hasil);\n",
    "        break;\n",
    "    case '*':\n",
    "        hasil = angka1 * angka2;\n",
    "        System.out.println(angka1 + \" * \" + angka2 + \" = \" + hasil);\n",
    "        break;\n",
    "    case '/':\n",
    "        hasil = angka1 / angka2;\n",
    "        System.out.println(angka1 + \" / \" + angka2 + \" = \" + hasil);\n",
    "        break;\n",
    "    default:\n",
    "        System.out.println(\"Operator yang aanda masukan salah\");\n",
    "}"
   ]
  },
  {
   "cell_type": "markdown",
   "metadata": {},
   "source": [
    "5. Jalankan program. Amati apa yang terjadi!"
   ]
  },
  {
   "cell_type": "markdown",
   "metadata": {},
   "source": [
    "##### Pertanyaan\n",
    "1. Jelaskan fungsi dari break dan default pada percobaan 4 diatas!\n",
    "\n",
    "Fungsi break adalah untuk melakukan stop jika perintah yang diberikan sudah di rasa cukup untuk case tersebut. sedangkan fungsi default adalah digunakan jika nilai value inputan tidak ada yang cocok dengan list case yang diberikan. \n",
    "\n",
    "2. Jelaskan fungsi perintah kode program dibawah ini pada percobaan 4!\n",
    "\n",
    "    ```\n",
    "    operator = sc.next().chartAt(0);\n",
    "    ```\n",
    "    \n",
    "    Berfungsi untuk menangkap inputan yang berbenuk char"
   ]
  },
  {
   "cell_type": "markdown",
   "metadata": {},
   "source": [
    "### Tugas\n",
    "\n",
    "#### Waktu pengerjaan Tugas: 140 menit\n",
    "\n",
    "1. Buatlah program untuk menginputkan dua buah bilangan bulat, kemudian mencetak salah satu bilangan yang nilainya terbesar.\n",
    "2. Perhatikan flowchart berikut ini:\n",
    "\n",
    "![](images/02.png)\n",
    "\n",
    "> Buatlah program sesuai dengan flowchart diatas!\n",
    "\n",
    "3. Pada akhir semester seorang dosen menghitung nilai akhir dari mahasiswa yang terdiri dari nilai uas, uts, kuis, dan tugas. Nilai akhir didapatkan dari 40% nilai uas, 30% nilai uts, 10% nilai kuis, dan 20% nilai tugas. Jika nilai akhir dari mahasiswa dibawah 65 maka mahasiswa tersebut akan mendapatkan remidi. Buatlah program untuk membantu mengetahui mahasiswa yang mendapatkan remidi berdasarkan nilai akhir yang didapatkannya!\n",
    "\n",
    "4. Sebuah toko memberikan diskon kepada pelanggannya dengan ketentuan sebagai berikut:\n",
    "\n",
    "| Total Belanja     | Potongan |\n",
    "|-------------------|----------|\n",
    "| >Rp. 200.000,00   | 2%       |\n",
    "| >Rp. 500.000,00   | 5%       |\n",
    "| >Rp. 1.000.000,00 | 10%      |\n",
    "\n",
    "> Total belanja diperoleh dari pembelian tiga barang yaitu barang A, barang B, dan barang C. Ketika menginputkan harga barang juga menginputkan jumlah barang yang dibeli.\n",
    "\n",
    "Contoh outputnya\n",
    "```\n",
    "Masukkan harga barang A   :100000\n",
    "Masukkan jumlah barang A  :10\n",
    "Masukkan harga barang B   :250000\n",
    "Masukkan jumlah barang B  :5\n",
    "Masukkan harga barang C   :150000\n",
    "Masukkan jumlah barang C  :1\n",
    "---------------------------------------------\n",
    "                Struk total\n",
    "---------------------------------------------\n",
    "Nama Barang \t| \tHarga \t| \tJumlah \t| \tTotal\n",
    "Barang A            100000         10        1000000   \n",
    "Barang B            250000         5         1250000   \n",
    "Barang C            150000         1         150000    \n",
    "Total       :2400000\n",
    "Diskon      :240000.0\n",
    "Total Bayar :2160000.0\n",
    "```"
   ]
  },
  {
   "cell_type": "code",
   "execution_count": 2,
   "metadata": {
    "scrolled": true
   },
   "outputs": [
    {
     "name": "stdout",
     "output_type": "stream",
     "text": [
      "Masukan sebuah nilai 1: 15\n",
      "Masukan sebuah nilai 2: 20\n",
      "Nilai terbesar adalah : 20\n"
     ]
    }
   ],
   "source": [
    "import java.util.Scanner;\n",
    "Scanner scan = new Scanner(System.in);\n",
    "int nilai1 , nilai2;\n",
    "System.out.print(\"Masukan sebuah nilai 1: \");\n",
    "nilai1 = scan.nextInt();\n",
    "System.out.print(\"Masukan sebuah nilai 2: \");\n",
    "nilai2 = scan.nextInt();\n",
    "if(nilai1 > nilai2){\n",
    "    System.out.println(\"Nilai terbesar adalah : \" + nilai1);\n",
    "}else{\n",
    "    System.out.println(\"Nilai terbesar adalah : \" + nilai2);\n",
    "}"
   ]
  },
  {
   "cell_type": "code",
   "execution_count": 4,
   "metadata": {},
   "outputs": [
    {
     "name": "stdout",
     "output_type": "stream",
     "text": [
      "Masukan umur : 18\n",
      "Boleh Berkendara\n"
     ]
    }
   ],
   "source": [
    "import java.util.Scanner;\n",
    "Scanner scan = new Scanner(System.in);\n",
    "int umur ;\n",
    "System.out.print(\"Masukan umur : \");\n",
    "umur = scan.nextInt();\n",
    "if(umur >= 17){\n",
    "    System.out.println(\"Boleh Berkendara\");\n",
    "}else{\n",
    "    System.out.println(\"Tidak Boleh Berkendara\");\n",
    "}"
   ]
  },
  {
   "cell_type": "code",
   "execution_count": 1,
   "metadata": {},
   "outputs": [
    {
     "name": "stdout",
     "output_type": "stream",
     "text": [
      "Masukan nilai uas : 80\n",
      "Masukan nilai uts : 90\n",
      "Masukan nilai kuis : 60\n",
      "Masukan nilai tugas : 70\n",
      "Nilai Akhir Mahasiswa : 80\n",
      "Mahasiswa Tidak Remidi\n"
     ]
    }
   ],
   "source": [
    "import java.util.Scanner;\n",
    "Scanner scan = new Scanner(System.in);\n",
    "int nilaiAkhir ,uas , uts ,kuis , tugas ;\n",
    "System.out.print(\"Masukan nilai uas : \");\n",
    "uas = scan.nextInt();\n",
    "System.out.print(\"Masukan nilai uts : \");\n",
    "uts = scan.nextInt();\n",
    "System.out.print(\"Masukan nilai kuis : \");\n",
    "kuis = scan.nextInt();\n",
    "System.out.print(\"Masukan nilai tugas : \");\n",
    "tugas = scan.nextInt();\n",
    "uts *= 40;\n",
    "uas *= 30;\n",
    "kuis *= 10;\n",
    "tugas *= 20;\n",
    "uts /= 100;\n",
    "uas /= 100;\n",
    "kuis /= 100;\n",
    "tugas /= 100;\n",
    "nilaiAkhir = uts + uas + kuis + tugas;\n",
    "System.out.println(\"Nilai Akhir Mahasiswa : \" + nilaiAkhir);\n",
    "if(nilaiAkhir < 65){\n",
    "    System.out.println(\"Mahasiswa Remidi\");\n",
    "}else{\n",
    "    System.out.println(\"Mahasiswa Tidak Remidi\");\n",
    "}"
   ]
  },
  {
   "cell_type": "code",
   "execution_count": 5,
   "metadata": {},
   "outputs": [
    {
     "name": "stdout",
     "output_type": "stream",
     "text": [
      "Masukan Harga Barang A  : 100000\n",
      "Masukan jumlah Barang A : 10\n",
      "Masukan Harga Barang B  : 250000\n",
      "Masukan jumlah Barang B : 5\n",
      "Masukan Harga Barang C  : 150000\n",
      "Masukan jumlah Barang C : 1\n",
      "------------------------------------------------------------\n",
      "\t\tSTRUK BELANJA\n",
      "------------------------------------------------------------\n",
      "Nama Barang\t|   Harga\t|   jumlah\t|   Total\n",
      "Barang A\t    100000\t    10\t\t    1000000\n",
      "Barang B\t    250000\t    5\t\t    1250000\n",
      "Barang C\t    150000\t    1\t\t    150000\n",
      "Total\t\t : 2400000\n",
      "Diskon\t\t : 240000.0\n",
      "Total Bayar\t : 2160000.0\n"
     ]
    }
   ],
   "source": [
    "import java.util.Scanner;\n",
    "Scanner scan = new Scanner(System.in);\n",
    "int hargaA , hargaB , hargaC , jumlahA , jumlahB , jumlahC ,totalA , totalB , totalC , totalBelanja ;\n",
    "double diskon , totalBayar;\n",
    "System.out.print(\"Masukan Harga Barang A  : \");\n",
    "hargaA = scan.nextInt();\n",
    "System.out.print(\"Masukan jumlah Barang A : \");\n",
    "jumlahA = scan.nextInt();\n",
    "System.out.print(\"Masukan Harga Barang B  : \");\n",
    "hargaB = scan.nextInt();\n",
    "System.out.print(\"Masukan jumlah Barang B : \");\n",
    "jumlahB = scan.nextInt();\n",
    "System.out.print(\"Masukan Harga Barang C  : \");\n",
    "hargaC = scan.nextInt();\n",
    "System.out.print(\"Masukan jumlah Barang C : \");\n",
    "jumlahC = scan.nextInt();\n",
    "totalA = hargaA * jumlahA;\n",
    "totalB = hargaB * jumlahB;\n",
    "totalC = hargaC * jumlahC;\n",
    "totalBelanja = totalA + totalB + totalC;\n",
    "if (totalBelanja <= 200000){\n",
    "    diskon = 0;\n",
    "}\n",
    "else if (totalBelanja <= 500000){\n",
    "    diskon = totalBelanja * 2/100;\n",
    "}\n",
    "else if (totalBelanja <= 1000000){\n",
    "    diskon = totalBelanja * 5/100;\n",
    "}\n",
    "else{\n",
    "    diskon = totalBelanja * 10/100;\n",
    "}\n",
    "totalBayar = totalBelanja - diskon;\n",
    "System.out.println(\"------------------------------------------------------------\");\n",
    "System.out.println(\"\\t\\tSTRUK BELANJA\");\n",
    "System.out.println(\"------------------------------------------------------------\");\n",
    "System.out.println(\"Nama Barang\\t|   Harga\\t|   jumlah\\t|   Total\");\n",
    "System.out.println(\"Barang A\\t    \"+ hargaA +\"\\t    \" + jumlahA + \"\\t\\t    \" + totalA);\n",
    "System.out.println(\"Barang B\\t    \"+ hargaB +\"\\t    \" + jumlahB + \"\\t\\t    \" + totalB);\n",
    "System.out.println(\"Barang C\\t    \"+ hargaC +\"\\t    \" + jumlahC + \"\\t\\t    \" + totalC);\n",
    "System.out.println(\"Total\\t\\t : \" + totalBelanja);\n",
    "System.out.println(\"Diskon\\t\\t : \" + diskon);\n",
    "System.out.println(\"Total Bayar\\t : \" + totalBayar)\n",
    "\n"
   ]
  },
  {
   "cell_type": "code",
   "execution_count": null,
   "metadata": {},
   "outputs": [],
   "source": []
  }
 ],
 "metadata": {
  "kernelspec": {
   "display_name": "Java",
   "language": "java",
   "name": "java"
  },
  "language_info": {
   "codemirror_mode": "java",
   "file_extension": ".jshell",
   "mimetype": "text/x-java-source",
   "name": "Java",
   "pygments_lexer": "java",
   "version": "11+28"
  },
  "nteract": {
   "version": "nteract-on-jupyter@2.1.3"
  }
 },
 "nbformat": 4,
 "nbformat_minor": 1
}
