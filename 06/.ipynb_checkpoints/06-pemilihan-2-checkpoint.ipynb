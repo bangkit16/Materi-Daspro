{
 "cells": [
  {
   "cell_type": "markdown",
   "metadata": {
    "collapsed": true
   },
   "source": [
    "### NIM : 2131710143\n",
    "### NAMA : Bangkit Maulana Caniago\n",
    "\n",
    "## JOBSHEET 6\n",
    "\n",
    "## PEMILIHAN 2\n",
    "\n",
    "### Tujuan\n",
    "\n",
    "Mahasiswa memahami tentang operator logika; Mahasiswa mampu menyelesaikan permasalahan dengan menggunakan sintaks pemilihan bersarang; Mahasiswa mampu membuat sebuah program Java yang memanfaatkan sintaks pemilihan bersarang\n",
    "\n",
    "\n",
    "### Alat dan Bahan\n",
    "+ PC/laptop\n",
    "+ Browser(chrome, firefox, safari)\n",
    "+ Koneksi internet\n",
    "\n",
    "### Praktikum\n",
    "\n",
    "#### Percobaan 1\n",
    "\n",
    "#### Waktu percobaan : 40 menit\n",
    "\n",
    "1. Tambahkan library Scanner, deklarasi Scanner\n",
    "\n",
    "2. Buatlah variabel nilai yang memiliki tipe data int untuk menampung data yang diinput melalui keyboard\n",
    "\n",
    "    ![](images/03.png)"
   ]
  },
  {
   "cell_type": "code",
   "execution_count": 17,
   "metadata": {},
   "outputs": [
    {
     "name": "stdout",
     "output_type": "stream",
     "text": [
      "Masukan nilai ujian (0-100): 105\n"
     ]
    }
   ],
   "source": [
    "// Ketik kode di sini\n",
    "import java.util.Scanner;\n",
    "Scanner input = new Scanner(System.in);\n",
    "int nilai;\n",
    "System.out.print(\"Masukan nilai ujian (0-100): \");\n",
    "nilai = input.nextInt();"
   ]
  },
  {
   "cell_type": "markdown",
   "metadata": {},
   "source": [
    "3. Buatlah struktur pengecekan kondisi bersarang. Pengecekan pertama digunakan untuk memastikan bahwa nilai yang dimasukkan berada pada rentang 0 – 100. Jika nilai berada pada rentang 0 – 100, maka akan dilakukan pengecekan status kelulusan mahasiswa, yaitu jika nilai di antara 90 – 100 maka nilainya A, jika nilai di antara 80 – 89 maka nilainya B, jika nilai di antara 60 – 79 maka nilainya C, jika nilai di antara 50 – 59 maka nilainya D, dan jika nilai di antara 0 – 49 maka nilainya E. Sedangkan jika nilai berada di luar rentang 0 – 100, maka ditampilkan informasi bahwa nilai yang dimasukkan tidak valid.\n",
    "\n",
    "    ![](images/04.png)"
   ]
  },
  {
   "cell_type": "code",
   "execution_count": 18,
   "metadata": {},
   "outputs": [
    {
     "name": "stdout",
     "output_type": "stream",
     "text": [
      "Nilai yang dimasukan tidak valid\n"
     ]
    }
   ],
   "source": [
    "// Ketik kode di sini\n",
    "if(nilai >= 0 && nilai <= 100){\n",
    "    if(nilai >= 90 && nilai <= 100){\n",
    "        System.out.println(\"Nilai A, EXCELLLENT!\");\n",
    "    }else if  (nilai >= 80 && nilai <=89){\n",
    "        System.out.println(\"Nilai B, Pertahankan prestasi anda!\");\n",
    "    }else if  (nilai >= 60 && nilai <=79){\n",
    "        System.out.println(\"Nilai C, Tingkatkan prestassi anda!\");\n",
    "    }else if  (nilai >= 50 && nilai <=59){\n",
    "        System.out.println(\"Nilai D, Tingkatkan belajar anda!\");\n",
    "    }else{\n",
    "        System.out.println(\"Nilai E, Anda tidak lulus!\");\n",
    "    }\n",
    "}else{\n",
    "    System.out.println(\"Nilai yang dimasukan tidak valid\");\n",
    "}"
   ]
  },
  {
   "cell_type": "markdown",
   "metadata": {},
   "source": [
    "> Penjelasan kode program percobaan 1"
   ]
  },
  {
   "cell_type": "markdown",
   "metadata": {},
   "source": [
    "##### Pertanyaan\n",
    "\n",
    "1. Modifikasi kode program pada Percobaan 1 sehingga jika nilai yang dimasukkan kurang dari 0 akan ditampilkan output “Nilai yang Anda masukkan kurang dari 0” dan jika nilai yang dimasukkan lebih dari 100 akan ditampilkan output “Nilai yang Anda masukkan lebih dari 100”!\n",
    "\n",
    "2. Jelaskan fungsi sintaks if (nilai >= 0 && nilai <= 100)!\n",
    "\n",
    "Jawab:\n",
    "Berfungsi Untuk menghasilkan TRUE jika kedua operand menghasilkan TRUE,jika salah satu FALSE maka menghasilkan FALSE\n",
    "\n",
    "\n",
    "3. Ubah operator && menjadi || pada sintaks if (nilai >= 0 && nilai <= 100). Jalankan program dengan memasukkan nilai = 105. Amati apa yang terjadi! Mengapa hasilnya demikian?\n",
    "\n",
    "Jawab:\n",
    "Operator || Berfungsi untuk menghasillkan TRUE jika salah satu operand menghasilkan TRUE, jika di lihat dari code nya nilai >= 0 && nilai <= 100 dan kita memasukan input 105 ,maka operator tersebut menghasilkan true , setelah di lakukan pengecekan pemilihan maka yang muncul adalah else yang berisi \"Nilai E, Anda tidak lulus!\"\n",
    "\n"
   ]
  },
  {
   "cell_type": "code",
   "execution_count": 19,
   "metadata": {},
   "outputs": [
    {
     "name": "stdout",
     "output_type": "stream",
     "text": [
      "Nilai yang Anda masukkan lebih dari 100\n",
      "Nilai E, Anda tidak lulus!\n"
     ]
    }
   ],
   "source": [
    "// Jawaban pertanyaan\n",
    "// Pertanyaan nomer 1\n",
    "if(nilai >= 0 && nilai <= 100){\n",
    "    if(nilai >= 90 && nilai <= 100){\n",
    "        System.out.println(\"Nilai A, EXCELLLENT!\");\n",
    "    }else if  (nilai >= 80 && nilai <=89){\n",
    "        System.out.println(\"Nilai B, Pertahankan prestasi anda!\");\n",
    "    }else if  (nilai >= 60 && nilai <=79){\n",
    "        System.out.println(\"Nilai C, Tingkatkan prestassi anda!\");\n",
    "    }else if  (nilai >= 50 && nilai <=59){\n",
    "        System.out.println(\"Nilai D, Tingkatkan belajar anda!\");\n",
    "    }else{\n",
    "        System.out.println(\"Nilai E, Anda tidak lulus!\");\n",
    "    }\n",
    "}else if (nilai < 0){\n",
    "    System.out.println(\"Nilai yang Anda masukkan kurang dari 0\");\n",
    "}else {\n",
    "    System.out.println(\"Nilai yang Anda masukkan lebih dari 100\");\n",
    "}\n",
    "\n",
    "// Pertanyaan nomer 3\n",
    "if(nilai >= 0 || nilai <= 100){\n",
    "    if(nilai >= 90 && nilai <= 100){\n",
    "        System.out.println(\"Nilai A, EXCELLLENT!\");\n",
    "    }else if  (nilai >= 80 && nilai <=89){\n",
    "        System.out.println(\"Nilai B, Pertahankan prestasi anda!\");\n",
    "    }else if  (nilai >= 60 && nilai <=79){\n",
    "        System.out.println(\"Nilai C, Tingkatkan prestassi anda!\");\n",
    "    }else if  (nilai >= 50 && nilai <=59){\n",
    "        System.out.println(\"Nilai D, Tingkatkan belajar anda!\");\n",
    "    }else{\n",
    "        System.out.println(\"Nilai E, Anda tidak lulus!\");\n",
    "    }\n",
    "}else{\n",
    "    System.out.println(\"Nilai yang dimasukan tidak valid\");\n",
    "}"
   ]
  },
  {
   "cell_type": "markdown",
   "metadata": {},
   "source": [
    "#### Percobaan 2\n",
    "\n",
    "#### Waktu percobaan : 40 menit"
   ]
  },
  {
   "cell_type": "markdown",
   "metadata": {},
   "source": [
    "1. Perhatikan flowchart dibawah ini!\n",
    "\n",
    "![](images/02.png)\n",
    "\n",
    "> Flowchart tersebut digunakan untuk menghitung gaji bersih seseorang setelah dipotong pajak sesuai dengan kategorinya (pekerja dan pebisnis) dan besarnya penghasilan. "
   ]
  },
  {
   "cell_type": "markdown",
   "metadata": {},
   "source": [
    "2. Tambahkan library Scanner dan deklarasi Scanner\n",
    "\n",
    "3. Deklarasikan variabel kategori, penghasilan, gajiBersih, dan pajak\n",
    "\n",
    "    ![](images/05.png)"
   ]
  },
  {
   "cell_type": "code",
   "execution_count": 28,
   "metadata": {},
   "outputs": [
    {
     "name": "stdout",
     "output_type": "stream",
     "text": [
      "Masukan kategori: pebisnis\n",
      "Masukan besarnya penghasilan: 2000000\n"
     ]
    }
   ],
   "source": [
    "// Ketik kode di sini\n",
    "import java.util.Scanner;\n",
    "Scanner input = new Scanner(System.in);\n",
    "String kategori;\n",
    "int penghasilan, gajiBersih;\n",
    "double pajak = 0;\n",
    "\n",
    "System.out.print(\"Masukan kategori: \");\n",
    "kategori = input.nextLine();\n",
    "System.out.print(\"Masukan besarnya penghasilan: \");\n",
    "penghasilan = input.nextInt();"
   ]
  },
  {
   "cell_type": "markdown",
   "metadata": {},
   "source": [
    "4. Buatlah struktur pengecekan kondisi bersarang. Pengecekan pertama digunakan untuk mengecek kategori (pekerja atau pebisnis). Selanjutnya dilakukan pengecekan kedua untuk menentukan besarnya pajak berdasarkan penghasilan yang telah dimasukkan.Kemudian tambahkan kode program untuk menghitung gaji bersih yang diterima setelah dipotong pajak!\n",
    "\n",
    "    ![](images/06.png)"
   ]
  },
  {
   "cell_type": "code",
   "execution_count": 29,
   "metadata": {},
   "outputs": [
    {
     "name": "stdout",
     "output_type": "stream",
     "text": [
      "Gaji Bersih yang anda terima: 1700000\n"
     ]
    }
   ],
   "source": [
    "// Ketik kode di sini\n",
    "if(kategori.equalsIgnoreCase(\"pekerja\")){\n",
    "    if (penghasilan <= 2000000){\n",
    "        pajak = 0.1;\n",
    "    }else if (penghasilan <= 3000000){\n",
    "        pajak = 0.15;\n",
    "    }else {\n",
    "        pajak = 0.2;\n",
    "    }\n",
    "    gajiBersih = (int) (penghasilan-(penghasilan *pajak));\n",
    "    System.out.println(\"Gaji Bersih yang anda terima: \" + gajiBersih);\n",
    "}else if(kategori.equalsIgnoreCase(\"pebisnis\")){\n",
    "    if (penghasilan <= 2500000){\n",
    "        pajak = 0.15;\n",
    "    }else if (penghasilan <= 3500000){\n",
    "        pajak = 0.2;\n",
    "    }else {\n",
    "        pajak = 0.25;\n",
    "    }\n",
    "    gajiBersih = (int) (penghasilan-(penghasilan *pajak));\n",
    "    System.out.println(\"Gaji Bersih yang anda terima: \" + gajiBersih);\n",
    "}else{\n",
    "    System.out.println(\"Kategori yang anda masukan salah!\");\n",
    "}"
   ]
  },
  {
   "cell_type": "markdown",
   "metadata": {},
   "source": [
    "5. Jalankan program di atas. Amati apa yang terjadi!"
   ]
  },
  {
   "cell_type": "markdown",
   "metadata": {},
   "source": [
    "> Penjelasan kode program percobaan 2"
   ]
  },
  {
   "cell_type": "markdown",
   "metadata": {},
   "source": [
    "##### Pertanyaan\n",
    "\n",
    "1. Jalankan program dengan memasukkan kategori = pekerja dan penghasilan = 2048485. Amati apa yang terjadi! Mengapa angka di belakang koma tidak ditampilkan?\n",
    "\n",
    "Jawab : karena variable gajiBersih merupakan variabel yang tie data nya int\n",
    "\n",
    "\n",
    "2. Jelaskan fungsi dari (int) pada sintaks:\n",
    "```\n",
    "gajiBersih = (int) (penghasilan - (penghasilan * pajak));\n",
    "```\n",
    "\n",
    "Jawab : fungsi dari (int) adalah untuk mengcasting hasil dari penghasilan - (penghasilan * pajak) agar menjadi int\n",
    "\n",
    "\n",
    "3.\tJalankan program dengan memasukkan kategori = pebisnis dan penghasilan = 2000000. Amati apa yang terjadi! Apa kegunaan dari equalsIgnoreCase?\n",
    "\n",
    "Jawab : equalsIgnoreCase berfungsi untuk membandingkan suatu string dengan objek string yang lain tanpa memperdullikan huruf kecil atau besar\n",
    "\n",
    "4.\tUbah equalsIgnoreCase menjadi equals, kemudian jalankan program dengan memasukkan kategori = pebisnis dan penghasilan = 2000000. Amati apa yang terjadi! Mengapa hasilnya demikian? Apa kegunaan dari equals?\n",
    "\n",
    "Jawab : equals berfungsi untuk membandingkan suatu string dengan objek string yang lain"
   ]
  },
  {
   "cell_type": "code",
   "execution_count": 30,
   "metadata": {},
   "outputs": [
    {
     "name": "stdout",
     "output_type": "stream",
     "text": [
      "Gaji Bersih yang anda terima: 1700000\n"
     ]
    }
   ],
   "source": [
    "// Jawaban pertanyaan\n",
    "// Pertanyaan 4\n",
    "if(kategori.equals(\"pekerja\")){\n",
    "    if (penghasilan <= 2000000){\n",
    "        pajak = 0.1;\n",
    "    }else if (penghasilan <= 3000000){\n",
    "        pajak = 0.15;\n",
    "    }else {\n",
    "        pajak = 0.2;\n",
    "    }\n",
    "    gajiBersih = (int) (penghasilan-(penghasilan *pajak));\n",
    "    System.out.println(\"Gaji Bersih yang anda terima: \" + gajiBersih);\n",
    "}else if(kategori.equals(\"pebisnis\")){\n",
    "    if (penghasilan <= 2500000){\n",
    "        pajak = 0.15;\n",
    "    }else if (penghasilan <= 3500000){\n",
    "        pajak = 0.2;\n",
    "    }else {\n",
    "        pajak = 0.25;\n",
    "    }\n",
    "    gajiBersih = (int) (penghasilan-(penghasilan *pajak));\n",
    "    System.out.println(\"Gaji Bersih yang anda terima: \" + gajiBersih);\n",
    "}else{\n",
    "    System.out.println(\"Kategori yang anda masukan salah!\");\n",
    "}"
   ]
  },
  {
   "cell_type": "markdown",
   "metadata": {},
   "source": [
    "### Tugas\n",
    "\n",
    "#### Waktu pengerjaan Tugas: 140 menit\n",
    "\n",
    "1. Buatlah program kalkulator sederhana menggunakan bahasa pemrograman Java. User akan menginputkan dua buah bilangan riil dan satu buah operator aritmatika (+, -, *, atau /), kemudian program akan mengoperasikan dua bilangan tersebut dengan operator yang sesuai. Petunjuk: gunakan pernyataan switch-case.\n",
    "Contoh tampilan program:\n",
    "\n",
    "```\n",
    "Masukkan bilangan pertama: 2.5\n",
    "Masukkan operator (+, -, *, /): *\n",
    "Masukkan bilangan kedua: 4\n",
    "2.5 * 4.0 = 10.0\n",
    "\n",
    "```"
   ]
  },
  {
   "cell_type": "code",
   "execution_count": 2,
   "metadata": {},
   "outputs": [
    {
     "name": "stdout",
     "output_type": "stream",
     "text": [
      "Masukan angka pertama: 2.5\n",
      "Masukan operator (+ - * /): *\n",
      "Masukan angka kedua: 4\n",
      "2.5 * 4.0 = 10.0\n"
     ]
    }
   ],
   "source": [
    "//ketik kode program dan lampirkan hasilnya disini\n",
    "Scanner sc = new Scanner(System.in);\n",
    "double angka1, angka2 , hasil;\n",
    "char operator;\n",
    "\n",
    "System.out.print(\"Masukan angka pertama: \");\n",
    "angka1 = sc.nextDouble();\n",
    "System.out.print(\"Masukan operator (+ - * /): \");\n",
    "operator = sc.next().charAt(0);\n",
    "System.out.print(\"Masukan angka kedua: \");\n",
    "angka2 = sc.nextDouble();\n",
    "\n",
    "\n",
    "switch(operator){\n",
    "    case '+':\n",
    "        hasil = angka1 + angka2;\n",
    "        System.out.println(angka1 + \" + \" + angka2 + \" = \" + hasil);\n",
    "        break;\n",
    "    case '-':\n",
    "        hasil = angka1 - angka2;\n",
    "        System.out.println(angka1 + \" - \" + angka2 + \" = \" + hasil);\n",
    "        break;\n",
    "    case '*':\n",
    "        hasil = angka1 * angka2;\n",
    "        System.out.println(angka1 + \" * \" + angka2 + \" = \" + hasil);\n",
    "        break;\n",
    "    case '/':\n",
    "        hasil = angka1 / angka2;\n",
    "        System.out.println(angka1 + \" / \" + angka2 + \" = \" + hasil);\n",
    "        break;\n",
    "    default:\n",
    "        System.out.println(\"Operator yang aanda masukan salah\");\n",
    "}"
   ]
  },
  {
   "cell_type": "markdown",
   "metadata": {},
   "source": [
    "2. Dengan menggunakan tiga nilai yang mewakili panjang tiga sisi sebuah segitiga, tentukan apakah segitiga tersebut sama sisi (ketiga sisinya bernilai sama), sama kaki (kedua sisinya bernilai sama), atau sembarang (tidak ada sisi yang bernilai sama)! "
   ]
  },
  {
   "cell_type": "code",
   "execution_count": 7,
   "metadata": {},
   "outputs": [
    {
     "name": "stdout",
     "output_type": "stream",
     "text": [
      "Masukan angka pertama: 2\n",
      "Masukan angka kedua: 3\n",
      "Masukan angka ketiga: 2\n",
      "kedua sisi sama merupakan Segitiga Sama kaki\n"
     ]
    }
   ],
   "source": [
    "//ketik kode program dan lampirkan hasilnya disini\n",
    "Scanner sc = new Scanner(System.in);\n",
    "double sisi1, sisi2 , sisi3;\n",
    "\n",
    "System.out.print(\"Masukan angka pertama: \");\n",
    "sisi1 = sc.nextDouble();\n",
    "System.out.print(\"Masukan angka kedua: \");\n",
    "sisi2 = sc.nextDouble();\n",
    "System.out.print(\"Masukan angka ketiga: \");\n",
    "sisi3 = sc.nextDouble();\n",
    "\n",
    "if(sisi1 == sisi2 && sisi1 == sisi3 && sisi2 == sisi3){\n",
    "    System.out.println(\"ketiga sisi sama merupakan Segitiga Sama Sisi\");\n",
    "}else if(sisi1 == sisi2 || sisi1 == sisi3 || sisi2 == sisi3){\n",
    "    System.out.println(\"kedua sisi sama merupakan Segitiga Sama kaki\");\n",
    "}else{\n",
    "    System.out.println(\"semua sisi tidak ada yang sama merupakan Segitiga Sembarang\");\n",
    "}"
   ]
  },
  {
   "cell_type": "markdown",
   "metadata": {},
   "source": [
    "3. Warung Padang Gembira meminta Anda membuat sebuah program untuk menerima pesanan dari internet. Program yang Anda buat meminta user untuk memasukkan nama makanan dan harga. Setelah itu, user ditawarkan untuk menggunakan pengiriman ekspres. Jika pengguna menolak, maka jenis pengiriman yang digunakan adalah pengiriman reguler. Biaya pengiriman reguler untuk harga makanan kurang dari Rp 100.000 adalah Rp 20.000, sedangkan untuk harga makanan sama dengan atau lebih dari Rp 100.000 biaya pengirimannya adalah Rp 30.000. Untuk jenis pengiriman ekspres, tambahkan biaya tambahan sebesar Rp 25.000 dari standar biaya pengiriman reguler. Tampilkan struk yang berisi nama makanan yang dibeli + harga, biaya pengiriman, dan total yang harus dibayar!\n",
    "Contoh hasil output program:\n",
    "\n",
    "```\n",
    "Masukkan nama makanan: Tuna salad\n",
    "Masukkan harga makanan: Rp 115000\n",
    "Apakah Anda ingin pengiriman ekspres (0 = tidak, 1 = ya)? 0\n",
    "\n",
    "STRUK PEMBELIAN\n",
    "Tuna salad        Rp 115000\n",
    "Biaya pengiriman  Rp 30000\n",
    "TOTAL             Rp 145000\n",
    "\n",
    "```\n",
    "\n",
    "```\n",
    "Masukkan nama makanan: Beef bulgogi\n",
    "Masukkan harga makanan: Rp 78000\n",
    "Apakah Anda ingin pengiriman ekspres (0 = tidak, 1 = ya)? 1\n",
    "\n",
    "STRUK PEMBELIAN\n",
    "Beef bulgogi      Rp 115000\n",
    "Biaya pengiriman  Rp 45000\n",
    "TOTAL             Rp 123000\n",
    "\n",
    "```\n",
    "\n"
   ]
  },
  {
   "cell_type": "code",
   "execution_count": 4,
   "metadata": {},
   "outputs": [
    {
     "name": "stdout",
     "output_type": "stream",
     "text": [
      "Masukan nama makanan: Tuna salad\n",
      "Masukan harga makanan: Rp115000\n",
      "Apakah Anda ingin pengiriman ekspres (0 = tidak, 1 = ya)? 0\n",
      "STRUK PEMBELIAN\n",
      "Tuna salad\t\tRp 115000\n",
      "Biaya Pengiriman\tRp 30000\n",
      "Total\t\t\tRp 145000\n",
      "Masukan nama makanan: Beef bulgogi\n",
      "Masukan harga makanan: Rp78000\n",
      "Apakah Anda ingin pengiriman ekspres (0 = tidak, 1 = ya)? 1\n",
      "STRUK PEMBELIAN\n",
      "Beef bulgogi\t\tRp 78000\n",
      "Biaya Pengiriman\tRp 45000\n",
      "Total\t\t\tRp 123000\n"
     ]
    }
   ],
   "source": [
    "//ketik kode program dan lampirkan hasilnya disini\n",
    "Scanner sc = new Scanner(System.in);\n",
    "String namaMakanan1,namaMakanan2;\n",
    "int hargaMakanan, isEkspres ,biayaPengiriman ,total ,biayaEkspres = 25000;\n",
    "\n",
    "System.out.print(\"Masukan nama makanan: \");\n",
    "namaMakanan1 = sc.nextLine();\n",
    "System.out.print(\"Masukan harga makanan: Rp\");\n",
    "hargaMakanan = sc.nextInt();\n",
    "System.out.print(\"Apakah Anda ingin pengiriman ekspres (0 = tidak, 1 = ya)? \");\n",
    "isEkspres = sc.nextInt();\n",
    "\n",
    "if (isEkspres == 0){\n",
    "    if (hargaMakanan < 100000){\n",
    "        biayaPengiriman = 20000;\n",
    "    }\n",
    "    else{\n",
    "        biayaPengiriman = 30000;\n",
    "    }\n",
    "}else if (isEkspres == 1){\n",
    "    if (hargaMakanan < 100000){\n",
    "        biayaPengiriman = 20000 + biayaEkspres;\n",
    "    }\n",
    "    else{\n",
    "        biayaPengiriman = 30000 + biayaEkspres;\n",
    "    }\n",
    "}else {\n",
    "    System.out.print(\"Data yang dimasukan salah\");\n",
    "}\n",
    "total = hargaMakanan + biayaPengiriman;\n",
    "System.out.println(\"STRUK PEMBELIAN\");\n",
    "System.out.println(namaMakanan1 + \"\\t\\tRp \" + hargaMakanan);\n",
    "System.out.println(\"Biaya Pengiriman\\tRp \" + biayaPengiriman);\n",
    "System.out.println(\"Total\\t\\t\\tRp \" + total);\n",
    "\n",
    "namaMakanan2 = sc.nextLine();\n",
    "System.out.print(\"Masukan nama makanan: \");\n",
    "namaMakanan2 = sc.nextLine();\n",
    "System.out.print(\"Masukan harga makanan: Rp\");\n",
    "hargaMakanan = sc.nextInt();\n",
    "System.out.print(\"Apakah Anda ingin pengiriman ekspres (0 = tidak, 1 = ya)? \");\n",
    "isEkspres = sc.nextInt();\n",
    "\n",
    "if (isEkspres == 0){\n",
    "    if (hargaMakanan < 100000){\n",
    "        biayaPengiriman = 20000;\n",
    "    }\n",
    "    else{\n",
    "        biayaPengiriman = 30000;\n",
    "    }\n",
    "}else if (isEkspres == 1){\n",
    "    if (hargaMakanan < 100000){\n",
    "        biayaPengiriman = 20000 + biayaEkspres;\n",
    "    }\n",
    "    else{\n",
    "        biayaPengiriman = 30000 + biayaEkspres;\n",
    "    }\n",
    "}else {\n",
    "    System.out.print(\"Data yang dimasukan salah\");\n",
    "}\n",
    "total = hargaMakanan + biayaPengiriman;\n",
    "System.out.println(\"STRUK PEMBELIAN\");\n",
    "System.out.println(namaMakanan2 + \"\\t\\tRp \" + hargaMakanan);\n",
    "System.out.println(\"Biaya Pengiriman\\tRp \" + biayaPengiriman);\n",
    "System.out.println(\"Total\\t\\t\\tRp \" + total);"
   ]
  },
  {
   "cell_type": "markdown",
   "metadata": {},
   "source": [
    "4. Perhatikan flowchart berikut ini!\n",
    "\n",
    "![](images/01.png)\n",
    "\n",
    "> Buatlah program sesuai dengan flowchart diatas!"
   ]
  },
  {
   "cell_type": "code",
   "execution_count": 1,
   "metadata": {},
   "outputs": [
    {
     "name": "stdout",
     "output_type": "stream",
     "text": [
      "Masukan umur: 19\n",
      "apakah anda sudah Bekerja (0 = tidak, 1 = ya)?1\n",
      "Masukan Pendapatan perbulan: 2000000\n",
      "Masukan Jumlah tanggungan: 4\n",
      "Termasuk golongan Bukan Penduduk miskin"
     ]
    }
   ],
   "source": [
    "//ketik kode program dan lampirkan hasilnya disini\n",
    "Scanner sc = new Scanner(System.in);\n",
    "int umur , isBekerja , isSekolah;\n",
    "double pendapatan , biayaHidup , tanggungan;\n",
    "\n",
    "System.out.print(\"Masukan umur: \");\n",
    "umur = sc.nextInt();\n",
    "if(umur>=18){\n",
    "    System.out.print(\"apakah anda sudah Bekerja (0 = tidak, 1 = ya)?\");\n",
    "    isBekerja = sc.nextInt();\n",
    "    if(isBekerja == 1){\n",
    "        System.out.print(\"Masukan Pendapatan perbulan: \");\n",
    "        pendapatan = sc.nextDouble();\n",
    "        System.out.print(\"Masukan Jumlah tanggungan: \");\n",
    "        tanggungan = sc.nextDouble();\n",
    "        biayaHidup = pendapatan/tanggungan;\n",
    "        if(biayaHidup <300000){\n",
    "            System.out.print(\"Termasuk golongan Penduduk miskin\");\n",
    "        }else{\n",
    "            System.out.print(\"Termasuk golongan Bukan Penduduk miskin\");\n",
    "        }\n",
    "    }else if(isBekerja == 0){\n",
    "        System.out.print(\"Termasuk golongan Penduduk miskin\");\n",
    "    }else{\n",
    "        System.out.print(\"data yang dimasukan salah\");\n",
    "    }\n",
    "}else{\n",
    "    System.out.print(\"apakah anda Masih Sekolah (0 = tidak, 1 = ya)?\");\n",
    "    isSekolah = sc.nextInt();\n",
    "    if(isSekolah == 1){\n",
    "        System.out.print(\"Termasuk golongan Bukan Penduduk miskin\");\n",
    "    }else if(isSekolah == 0){\n",
    "        System.out.print(\"Termasuk golongan Penduduk miskin\");\n",
    "    }else{\n",
    "        System.out.print(\"data yang dimasukan salah\");\n",
    "    }\n",
    "}"
   ]
  },
  {
   "cell_type": "code",
   "execution_count": null,
   "metadata": {},
   "outputs": [],
   "source": []
  }
 ],
 "metadata": {
  "kernelspec": {
   "display_name": "Java",
   "language": "java",
   "name": "java"
  },
  "language_info": {
   "codemirror_mode": "java",
   "file_extension": ".jshell",
   "mimetype": "text/x-java-source",
   "name": "Java",
   "pygments_lexer": "java",
   "version": "11+28"
  },
  "nteract": {
   "version": "nteract-on-jupyter@2.1.3"
  }
 },
 "nbformat": 4,
 "nbformat_minor": 1
}
